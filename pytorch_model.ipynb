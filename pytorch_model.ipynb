{
  "nbformat": 4,
  "nbformat_minor": 0,
  "metadata": {
    "colab": {
      "name": "pytorch_model.ipynb",
      "provenance": [],
      "collapsed_sections": []
    },
    "kernelspec": {
      "name": "python3",
      "display_name": "Python 3"
    },
    "language_info": {
      "name": "python"
    },
    "accelerator": "GPU"
  },
  "cells": [
    {
      "cell_type": "code",
      "metadata": {
        "colab": {
          "base_uri": "https://localhost:8080/"
        },
        "id": "3dTY8WSvulZo",
        "outputId": "5a5177ba-f831-4698-8c50-f27d1e5a5fea"
      },
      "source": [
        "import cv2\n",
        "import onnx\n",
        "import torch\n",
        "from albumentations import (Compose,Resize,)\n",
        "from albumentations.augmentations.transforms import Normalize\n",
        "from albumentations.pytorch.transforms import ToTensor\n",
        "from torchvision import models\n",
        "\n",
        "\n",
        "def preprocess_image(img_path):\n",
        "    # transformations for the input data\n",
        "    transforms = Compose([\n",
        "        Resize(224, 224, interpolation=cv2.INTER_NEAREST),\n",
        "        Normalize(mean=[0.485, 0.456, 0.406], std=[0.229, 0.224, 0.225]),\n",
        "        ToTensor(),\n",
        "    ])\n",
        "\n",
        "    # read input image\n",
        "    input_img = cv2.imread(img_path)\n",
        "    # do transformations\n",
        "    input_data = transforms(image=input_img)[\"image\"]\n",
        "    # prepare batch\n",
        "    batch_data = torch.unsqueeze(input_data, 0)\n",
        "\n",
        "    return batch_data\n",
        "\n",
        "\n",
        "def postprocess(output_data):\n",
        "    # get class names\n",
        "    with open(\"imagenet_classes.txt\") as f:\n",
        "        classes = [line.strip() for line in f.readlines()]\n",
        "    # calculate human-readable value by softmax\n",
        "    confidences = torch.nn.functional.softmax(output_data, dim=1)[0] * 100\n",
        "    # find top predicted classes\n",
        "    _, indices = torch.sort(output_data, descending=True)\n",
        "    i = 0\n",
        "    # print the top classes predicted by the model\n",
        "    while confidences[indices[0][i]] > 0.5:\n",
        "        class_idx = indices[0][i]\n",
        "        print(\n",
        "            \"class:\",\n",
        "            classes[class_idx],\n",
        "            \", confidence:\",\n",
        "            confidences[class_idx].item(),\n",
        "            \"%, index:\",\n",
        "            class_idx.item(),\n",
        "        )\n",
        "        i += 1\n",
        "\n",
        "\n",
        "def main():\n",
        "    # load pre-trained model -------------------------------------------------------------------------------------------\n",
        "    mobilenet_v2 = models.mobilenet_v2(pretrained=True)\n",
        "\n",
        "    # preprocessing stage ----------------------------------------------------------------------------------------------\n",
        "    input_batch = preprocess_image(\"/content/turkish_coffee.jpg\").cuda()\n",
        "\n",
        "    # inference stage --------------------------------------------------------------------------------------------------\n",
        "    mobilenet_v2.eval()\n",
        "    mobilenet_v2.cuda()\n",
        "    output = mobilenet_v2(input_batch)\n",
        "\n",
        "    # post-processing stage --------------------------------------------------------------------------------------------\n",
        "    postprocess(output)\n",
        "\n",
        "    # convert to ONNX --------------------------------------------------------------------------------------------------\n",
        "    ONNX_FILE_PATH = \"mobilenet_v2.onnx\"\n",
        "    torch.onnx.export(mobilenet_v2, input_batch, ONNX_FILE_PATH, input_names=[\"input\"], output_names=[\"output\"], export_params=True)\n",
        "\n",
        "    onnx_model = onnx.load(ONNX_FILE_PATH)\n",
        "    # check that the model converted fine\n",
        "    onnx.checker.check_model(onnx_model)\n",
        "\n",
        "    print(\"Model was successfully converted to ONNX format.\")\n",
        "    print(\"It was saved to\", ONNX_FILE_PATH)\n",
        "\n",
        "\n",
        "if __name__ == '__main__':\n",
        "    main()"
      ],
      "execution_count": 1,
      "outputs": [
        {
          "output_type": "stream",
          "text": [
            "class: cup , confidence: 93.23870849609375 %, index: 968\n",
            "class: vase , confidence: 1.3668783903121948 %, index: 883\n",
            "class: pitcher, ewer , confidence: 1.2176575660705566 %, index: 725\n",
            "class: coffeepot , confidence: 1.2141094207763672 %, index: 505\n",
            "class: coffee mug , confidence: 0.8338580131530762 %, index: 504\n",
            "class: espresso , confidence: 0.5343857407569885 %, index: 967\n",
            "Model was successfully converted to ONNX format.\n",
            "It was saved to mobilenet_v2.onnx\n"
          ],
          "name": "stdout"
        }
      ]
    }
  ]
}